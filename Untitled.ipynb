{
 "cells": [
  {
   "cell_type": "code",
   "execution_count": 4,
   "metadata": {},
   "outputs": [],
   "source": [
    "import warnings\n",
    "warnings.filterwarnings(\"ignore\", category=DeprecationWarning)\n",
    "warnings.filterwarnings(\"ignore\", category=FutureWarning)"
   ]
  },
  {
   "cell_type": "code",
   "execution_count": 5,
   "metadata": {},
   "outputs": [],
   "source": [
    "from IPython.core.interactiveshell import InteractiveShell\n",
    "InteractiveShell.ast_node_interactivity = \"all\""
   ]
  },
  {
   "cell_type": "code",
   "execution_count": 6,
   "metadata": {},
   "outputs": [],
   "source": [
    "# General imports\n",
    "import numpy as np\n",
    "import pandas as pd\n",
    "import matplotlib.pyplot as plt"
   ]
  },
  {
   "cell_type": "code",
   "execution_count": 7,
   "metadata": {},
   "outputs": [],
   "source": [
    "    def __init__(self, name, X, y, features, samplingModel=None):\n",
    "        self.name = name\n",
    "        self.X = X\n",
    "        self.y = y\n",
    "        self.features = features\n",
    "        self.samplingModel = samplingModel #defaulted to None as it's not required\n",
    "        self.results = None"
   ]
  },
  {
   "cell_type": "code",
   "execution_count": 9,
   "metadata": {},
   "outputs": [],
   "source": [
    "class ModelClass:\n",
    "    def __init__(self, name, actualModel):\n",
    "        self.name = name\n",
    "        self.actualModel = actualModel"
   ]
  },
  {
   "cell_type": "code",
   "execution_count": 10,
   "metadata": {},
   "outputs": [],
   "source": [
    "# This global variable stores the names of the metric types that result from the classification models used in this project\n",
    "g_orderResults = ['Accuracy', 'Precision', 'Recall', 'F_Measure', 'Cross_Validation']\n",
    "\n",
    "# This global variable stores the number of metric types that are collected. Later, this global variable is very useful \n",
    "# for helping functions iterate through numpy array columns that contain the metric types from g_orderResults\n",
    "g_numResults = len(g_orderResults)\n",
    "\n",
    "# This global variable is a list that will store the classification models used in this project\n",
    "g_modelClasses = []\n",
    "\n",
    "# This global variable stores the different train/test splits that we will be performed on the datasets used in this project\n",
    "# A 0.2 split results in 20% of the dataset becoming the test dataset and 80% of the dataset becoming the training dataset.\n",
    "g_splits = np.array([0.2, 0.4, 0.6, 0.8])\n",
    "\n",
    "# This global variable stores the sampler models that will balance our datasets. g_underSampleModels will store all the under sampling\n",
    "# models. g_overSampleModels will store all the over sample models. g_comboSampleModels will store all the sample models that\n",
    "# use a combination of under and over sampling methods. \n",
    "g_underSampleModels = []\n",
    "g_overSampleModels = []\n",
    "g_comboSampleModels = []"
   ]
  },
  {
   "cell_type": "code",
   "execution_count": null,
   "metadata": {},
   "outputs": [],
   "source": []
  }
 ],
 "metadata": {
  "kernelspec": {
   "display_name": "Python 3",
   "language": "python",
   "name": "python3"
  },
  "language_info": {
   "codemirror_mode": {
    "name": "ipython",
    "version": 3
   },
   "file_extension": ".py",
   "mimetype": "text/x-python",
   "name": "python",
   "nbconvert_exporter": "python",
   "pygments_lexer": "ipython3",
   "version": "3.7.4"
  }
 },
 "nbformat": 4,
 "nbformat_minor": 2
}
