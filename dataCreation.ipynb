{
 "cells": [
  {
   "cell_type": "markdown",
   "metadata": {},
   "source": [
    "**The dataCreation Python class creates the mock input that is unobtainable due to social distancing**"
   ]
  },
  {
   "cell_type": "code",
   "execution_count": 10,
   "metadata": {},
   "outputs": [],
   "source": [
    "#import the random library and initializes seed\n",
    "import random\n",
    "random.seed(30)\n"
   ]
  },
  {
   "cell_type": "code",
   "execution_count": 14,
   "metadata": {},
   "outputs": [],
   "source": [
    "#patient data\n",
    "PHN = 0 #this will be the unique identifier\n",
    "age = 0 #20-100\n",
    "sex = 0 #0-1 Male/Female\n",
    "#emr data\n",
    "#fasting\n",
    "glucose = 0 #3.9-20\n",
    "a1c = 0 #5-12\n",
    "hdl = 0 #.5-3\n",
    "ldlc = 0 #1.5-6\n",
    "triglycerides = 0 #1-6\n",
    "TSHfT4 = 0 # 0.01-10\n",
    "creatine = 0 #14-120 (below 15 is dialisis)\n",
    "creatineKinase = 0 #normal is 20-215 90% abnormal range 1000-1100\n",
    "ALT = 0 #17-63 normal range #63-500 alchol range  #1000-1200 askemia,viral, autoimmune, toxic injury, acute hepititis \n",
    "APOB = 0 #.5-1.4 normal range  1.5-6  abnormal range\n",
    "LPa = 0 #200-300 normal range abnormal range  301-1000 mg/l\n",
    "hsCRP = 0 #.5-3 normal range abnormal range 3-5 mg/l\n",
    "\n",
    "\n",
    "\n",
    "\n",
    "framRiskScore = 0 #0-100 or point system -5 29\n",
    "\n",
    "\n",
    "#referal information\n",
    "\n",
    "#reason for referal\n",
    "reasonForReferal = [\"Statin Intolerance\",\"Difficulty Reaching Target\",\"PCSK9 Inhibitor Therapy\"]\n",
    "\n",
    "#refering doctor\n",
    "refDoctors= [\"Dr.Smith\",\"Dr.Jane\",\"Dr.Bill\"]\n",
    "\n",
    "#referal risk scores\n",
    "refHypertension = 0 #0-1\n",
    "refObesity = 0 #0-1\n",
    "refSmoking = 0 #0-1\n",
    "refCerebrovascularDiseaseHistory = 0 #0-1\n",
    "refCardiovascularDiseaseHistory = 0 #0-1\n",
    "\n",
    "\n",
    "\n",
    "#not sure how well the model will take in the missing data here but put it in anyway\n",
    "#if sex == 1\n",
    "Hysterectomy = 0 #0-1\n",
    "Postmenopausal = 0 #0-1\n",
    "if Hysterectomy == 1:\n",
    "    Postmenopausal = 1\n",
    "HormoneSupplement = 0 # 0-1\n",
    "\n"
   ]
  },
  {
   "cell_type": "code",
   "execution_count": 55,
   "metadata": {},
   "outputs": [
    {
     "name": "stdout",
     "output_type": "stream",
     "text": [
      "{0: {'id': 0, 'age': 30, 'sex': 1, 'glucose': 13.83, 'a1c': 5.37, 'hdl': 2.12, 'ldlc': 1.53, 'triglycerides': 1.67, 'tshft4': 5.58, 'creatine': 17.16, 'creatineKinase': 1021.57, 'alt': 1138.49, 'apob': 5.48, 'lpa': 720.64, 'hscrp': 3.8, 'framscore': -2, 'hysterectomy': 1, 'Postmenopausal': 1, 'HormoneSupplement': 1, 'referingDoctor': 'Dr.Smith', 'refReason': 'Statin Intolerance', 'refHypertension': 0, 'refObesity': 1, 'refSmoking': 0, 'familyCerebrovascularDiseaseHistory': 0, 'familyCardiovascularDiseaseHistory': 2}, 1: {'id': 1, 'age': 50, 'sex': 1, 'glucose': 10.96, 'a1c': 8.65, 'hdl': 0.64, 'ldlc': 1.53, 'triglycerides': 5.11, 'tshft4': 8.76, 'creatine': 18.01, 'creatineKinase': 1018.11, 'alt': 1142.43, 'apob': 5.61, 'lpa': 613.76, 'hscrp': 4.95, 'framscore': 4, 'hysterectomy': 1, 'Postmenopausal': 1, 'HormoneSupplement': 1, 'referingDoctor': 'Dr.Bill', 'refReason': 'Statin Intolerance', 'refHypertension': 1, 'refObesity': 0, 'refSmoking': 1, 'familyCerebrovascularDiseaseHistory': 1, 'familyCardiovascularDiseaseHistory': 0}, 2: {'id': 2, 'age': 68, 'sex': 1, 'glucose': 8.25, 'a1c': 9.2, 'hdl': 2.64, 'ldlc': 1.9, 'triglycerides': 4.69, 'tshft4': 0.12, 'creatine': 14.9, 'creatineKinase': 1018.32, 'alt': 1003.47, 'apob': 5.81, 'lpa': 809.45, 'hscrp': 4.58, 'framscore': 20, 'hysterectomy': 0, 'Postmenopausal': 0, 'HormoneSupplement': 0, 'referingDoctor': 'Dr.Smith', 'refReason': 'PCSK9 Inhibitor Therapy', 'refHypertension': 1, 'refObesity': 0, 'refSmoking': 1, 'familyCerebrovascularDiseaseHistory': 1, 'familyCardiovascularDiseaseHistory': 2}, 3: {'id': 3, 'age': 67, 'sex': 0, 'glucose': 12.6, 'a1c': 11.72, 'hdl': 2.18, 'ldlc': 4.96, 'triglycerides': 3.9, 'tshft4': 1.37, 'creatine': 15.26, 'creatineKinase': 1093.4, 'alt': 1196.84, 'apob': 3.12, 'lpa': 613.73, 'hscrp': 3.92, 'framscore': 10, 'referingDoctor': 'Dr.Bill', 'refReason': 'Statin Intolerance', 'refHypertension': 0, 'refObesity': 0, 'refSmoking': 1, 'familyCerebrovascularDiseaseHistory': 0, 'familyCardiovascularDiseaseHistory': 1}, 4: {'id': 4, 'age': 76, 'sex': 0, 'glucose': 18.13, 'a1c': 9.68, 'hdl': 2.13, 'ldlc': 5.17, 'triglycerides': 5.99, 'tshft4': 1.57, 'creatine': 63.16, 'creatineKinase': 1067.97, 'alt': 56.24, 'apob': 0.8, 'lpa': 200.76, 'hscrp': 1.74, 'framscore': 13, 'referingDoctor': 'Dr.Bill', 'refReason': 'Difficulty Reaching Target', 'refHypertension': 0, 'refObesity': 0, 'refSmoking': 0, 'familyCerebrovascularDiseaseHistory': 2, 'familyCardiovascularDiseaseHistory': 2}, 5: {'id': 5, 'age': 74, 'sex': 0, 'glucose': 4.02, 'a1c': 10.0, 'hdl': 2.67, 'ldlc': 5.7, 'triglycerides': 5.86, 'tshft4': 1.92, 'creatine': 15.95, 'creatineKinase': 1090.47, 'alt': 1196.68, 'apob': 1.55, 'lpa': 525.47, 'hscrp': 3.58, 'framscore': -1, 'referingDoctor': 'Dr.Jane', 'refReason': 'Statin Intolerance', 'refHypertension': 0, 'refObesity': 1, 'refSmoking': 0, 'familyCerebrovascularDiseaseHistory': 0, 'familyCardiovascularDiseaseHistory': 0}, 6: {'id': 6, 'age': 91, 'sex': 0, 'glucose': 9.68, 'a1c': 5.74, 'hdl': 0.52, 'ldlc': 1.91, 'triglycerides': 2.67, 'tshft4': 4.24, 'creatine': 16.54, 'creatineKinase': 1017.44, 'alt': 1198.45, 'apob': 2.54, 'lpa': 782.84, 'hscrp': 3.42, 'framscore': 27, 'referingDoctor': 'Dr.Smith', 'refReason': 'PCSK9 Inhibitor Therapy', 'refHypertension': 1, 'refObesity': 1, 'refSmoking': 0, 'familyCerebrovascularDiseaseHistory': 0, 'familyCardiovascularDiseaseHistory': 2}, 7: {'id': 7, 'age': 32, 'sex': 1, 'glucose': 7.58, 'a1c': 6.67, 'hdl': 0.95, 'ldlc': 2.18, 'triglycerides': 2.43, 'tshft4': 5.28, 'creatine': 16.73, 'creatineKinase': 1081.17, 'alt': 1148.66, 'apob': 3.15, 'lpa': 946.09, 'hscrp': 3.54, 'framscore': 13, 'hysterectomy': 0, 'Postmenopausal': 0, 'HormoneSupplement': 0, 'referingDoctor': 'Dr.Smith', 'refReason': 'PCSK9 Inhibitor Therapy', 'refHypertension': 0, 'refObesity': 1, 'refSmoking': 1, 'familyCerebrovascularDiseaseHistory': 0, 'familyCardiovascularDiseaseHistory': 2}, 8: {'id': 8, 'age': 65, 'sex': 1, 'glucose': 13.39, 'a1c': 8.75, 'hdl': 0.59, 'ldlc': 3.81, 'triglycerides': 5.91, 'tshft4': 4.07, 'creatine': 14.86, 'creatineKinase': 1030.05, 'alt': 1022.28, 'apob': 5.21, 'lpa': 588.61, 'hscrp': 3.95, 'framscore': 15, 'hysterectomy': 0, 'Postmenopausal': 1, 'HormoneSupplement': 0, 'referingDoctor': 'Dr.Bill', 'refReason': 'PCSK9 Inhibitor Therapy', 'refHypertension': 0, 'refObesity': 0, 'refSmoking': 0, 'familyCerebrovascularDiseaseHistory': 1, 'familyCardiovascularDiseaseHistory': 2}, 9: {'id': 9, 'age': 34, 'sex': 0, 'glucose': 17.72, 'a1c': 10.13, 'hdl': 1.31, 'ldlc': 5.52, 'triglycerides': 2.11, 'tshft4': 5.96, 'creatine': 19.93, 'creatineKinase': 1035.07, 'alt': 1109.12, 'apob': 2.25, 'lpa': 628.47, 'hscrp': 3.28, 'framscore': 25, 'referingDoctor': 'Dr.Smith', 'refReason': 'Difficulty Reaching Target', 'refHypertension': 0, 'refObesity': 1, 'refSmoking': 1, 'familyCerebrovascularDiseaseHistory': 0, 'familyCardiovascularDiseaseHistory': 0}}\n"
     ]
    }
   ],
   "source": [
    "patientData= {}\n",
    "#Generate Data\n",
    "for i in range(0,10,1):\n",
    "    patient = {}\n",
    "    lucky = 0\n",
    "    patient[\"id\"] = i\n",
    "    patient[\"age\"] = random.randint(20,100)\n",
    "    patient[\"sex\"] = random.randint(0,1)\n",
    "    lucky = random.randint(0,1)\n",
    "    if lucky == 0:\n",
    "        patient[\"glucose\"] = round(random.uniform(20,3.9),2) #todo normal vs abnormal\n",
    "        patient[\"a1c\"] = round(random.uniform(12,5),2) #todo normal vs abnormal\n",
    "        patient[\"hdl\"] = round(random.uniform(3,0.5),2) #todo normal vs abnormal\n",
    "        patient[\"ldlc\"] = round(random.uniform(6,1.5),2) #todo normal vs abnormal\n",
    "        patient[\"triglycerides\"] = round(random.uniform(6,1),2) #todo normal vs abnormal\n",
    "        patient[\"tshft4\"] = round(random.uniform(10,0.01),2) #todo normal vs abnormal\n",
    "        patient[\"creatine\"] = round(random.uniform(20,14),2)\n",
    "        patient[\"creatineKinase\"] = round(random.uniform(1100,1000),2)\n",
    "        patient[\"alt\"] = round(random.uniform(1200,1000),2)\n",
    "        patient[\"apob\"] = round(random.uniform(6,1.5),2)\n",
    "        patient[\"lpa\"] = round(random.uniform(1000,301),2)\n",
    "        patient[\"hscrp\"] = round(random.uniform(5,3),2)\n",
    "    else:\n",
    "        patient[\"glucose\"] = round(random.uniform(20,3.9),2) #todo normal vs abnormal\n",
    "        patient[\"a1c\"] = round(random.uniform(12,5),2) #todo normal vs abnormal\n",
    "        patient[\"hdl\"] = round(random.uniform(3,0.5),2) #todo normal vs abnormal\n",
    "        patient[\"ldlc\"] = round(random.uniform(6,1.5),2) #todo normal vs abnormal\n",
    "        patient[\"triglycerides\"] = round(random.uniform(6,1),2) #todo normal vs abnormal\n",
    "        patient[\"tshft4\"] = round(random.uniform(10,0.01),2) #todo normal vs abnormal\n",
    "        patient[\"creatine\"] = round(random.uniform(120,21),2)\n",
    "        patient[\"creatineKinase\"] = round(random.uniform(1100,1000),2)\n",
    "        alcohol = random.randint(1,10)\n",
    "        if alcohol > 7:\n",
    "            patient[\"alt\"] = round(random.uniform(500,63),2)\n",
    "        else:\n",
    "            patient[\"alt\"] = round(random.uniform(63,17),2)\n",
    "        patient[\"apob\"] = round(random.uniform(1.4,.5),2)\n",
    "        patient[\"lpa\"] = round(random.uniform(300,200),2)\n",
    "        patient[\"hscrp\"] = round(random.uniform(3,.5),2)\n",
    "        \n",
    "        \n",
    "    patient[\"framscore\"] = random.randint(-4,29)\n",
    "\n",
    "    if patient[\"sex\"] == 1:\n",
    "        patient[\"hysterectomy\"] = random.randint(0,1)\n",
    "        patient[\"Postmenopausal\"] = random.randint(0,1)\n",
    "        patient[\"HormoneSupplement\"] = random.randint(0,1)\n",
    "        if patient[\"hysterectomy\"] == 1: #if the patient has had a hysterectomy they must be post menopausal\n",
    "            patient[\"Postmenopausal\"] = 1\n",
    "    patient[\"referingDoctor\"] = random.choice(refDoctors)\n",
    "    patient[\"refReason\"] = random.choice(reasonForReferal)\n",
    "    \n",
    "    patient[\"refHypertension\"] = random.randint(0,1)\n",
    "    patient[\"refObesity\"] = random.randint(0,1)\n",
    "    patient[\"refSmoking\"] = random.randint(0,1)\n",
    "    patient[\"familyCerebrovascularDiseaseHistory\"] = random.randint(0,2) # 0 = none, 1 = 1 parent, 2 = both parents\n",
    "    patient[\"familyCardiovascularDiseaseHistory\"] = random.randint(0,2) # 0 = none, 1 = 1 parent, 2 = both parents\n",
    "\n",
    "    \n",
    "    patientData[i] = patient\n",
    "print (patientData)"
   ]
  },
  {
   "cell_type": "code",
   "execution_count": null,
   "metadata": {},
   "outputs": [],
   "source": []
  },
  {
   "cell_type": "code",
   "execution_count": null,
   "metadata": {},
   "outputs": [],
   "source": []
  }
 ],
 "metadata": {
  "kernelspec": {
   "display_name": "Python 3",
   "language": "python",
   "name": "python3"
  },
  "language_info": {
   "codemirror_mode": {
    "name": "ipython",
    "version": 3
   },
   "file_extension": ".py",
   "mimetype": "text/x-python",
   "name": "python",
   "nbconvert_exporter": "python",
   "pygments_lexer": "ipython3",
   "version": "3.7.4"
  }
 },
 "nbformat": 4,
 "nbformat_minor": 2
}
